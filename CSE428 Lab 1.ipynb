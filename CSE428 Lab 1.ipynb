{
 "cells": [
  {
   "cell_type": "code",
   "execution_count": 1,
   "metadata": {
    "executionInfo": {
     "elapsed": 30,
     "status": "ok",
     "timestamp": 1751888682280,
     "user": {
      "displayName": "TAHMIDUL KARIM TAKEE",
      "userId": "03029933455554057161"
     },
     "user_tz": -360
    },
    "id": "6gbq3Vig0uun"
   },
   "outputs": [],
   "source": [
    "import numpy as np\n",
    "import matplotlib.pyplot as plt\n",
    "from skimage import io, transform, img_as_float"
   ]
  },
  {
   "cell_type": "code",
   "execution_count": 2,
   "metadata": {
    "colab": {
     "base_uri": "https://localhost:8080/"
    },
    "executionInfo": {
     "elapsed": 56,
     "status": "ok",
     "timestamp": 1751888682350,
     "user": {
      "displayName": "TAHMIDUL KARIM TAKEE",
      "userId": "03029933455554057161"
     },
     "user_tz": -360
    },
    "id": "lGHHFZX43Ujw",
    "outputId": "1c9123f5-ee8d-4396-9bc3-09998d596eca"
   },
   "outputs": [
    {
     "name": "stdout",
     "output_type": "stream",
     "text": [
      "[1, 2, 4, 5, 7]\n"
     ]
    }
   ],
   "source": [
    "x = [1, 2, 4, 5, 7]\n",
    "print(x)"
   ]
  },
  {
   "cell_type": "code",
   "execution_count": 3,
   "metadata": {
    "colab": {
     "base_uri": "https://localhost:8080/"
    },
    "executionInfo": {
     "elapsed": 4,
     "status": "ok",
     "timestamp": 1751888682354,
     "user": {
      "displayName": "TAHMIDUL KARIM TAKEE",
      "userId": "03029933455554057161"
     },
     "user_tz": -360
    },
    "id": "FmwCu6gU3n5k",
    "outputId": "cfde8288-dc7c-479c-c563-1f440dcbbd85"
   },
   "outputs": [
    {
     "name": "stdout",
     "output_type": "stream",
     "text": [
      "[5, 6, 8, 9, 11]\n"
     ]
    }
   ],
   "source": [
    "x = [i + 4 for i in x]  # Add 4 to each element\n",
    "print(x)"
   ]
  },
  {
   "cell_type": "code",
   "execution_count": 4,
   "metadata": {
    "colab": {
     "base_uri": "https://localhost:8080/"
    },
    "executionInfo": {
     "elapsed": 9,
     "status": "ok",
     "timestamp": 1751888682364,
     "user": {
      "displayName": "TAHMIDUL KARIM TAKEE",
      "userId": "03029933455554057161"
     },
     "user_tz": -360
    },
    "id": "YsKraGpu4AXl",
    "outputId": "63a75c0e-6395-44db-deab-a3af46dd83b7"
   },
   "outputs": [
    {
     "name": "stdout",
     "output_type": "stream",
     "text": [
      "[9, 10, 12, 13, 15]\n"
     ]
    }
   ],
   "source": [
    "for i in range(len(x)):\n",
    "  x[i] = x[i] + 4\n",
    "print(x)"
   ]
  },
  {
   "cell_type": "code",
   "execution_count": 5,
   "metadata": {
    "colab": {
     "base_uri": "https://localhost:8080/"
    },
    "executionInfo": {
     "elapsed": 17,
     "status": "ok",
     "timestamp": 1751888682375,
     "user": {
      "displayName": "TAHMIDUL KARIM TAKEE",
      "userId": "03029933455554057161"
     },
     "user_tz": -360
    },
    "id": "PdYr2pQ04MLM",
    "outputId": "f8345723-b46d-43f4-bb7b-f2a3c856032e"
   },
   "outputs": [
    {
     "name": "stdout",
     "output_type": "stream",
     "text": [
      "[1 2 4 5 7]\n"
     ]
    }
   ],
   "source": [
    "x = np.array([1, 2, 4, 5, 7])\n",
    "print(x)"
   ]
  },
  {
   "cell_type": "code",
   "execution_count": 6,
   "metadata": {
    "colab": {
     "base_uri": "https://localhost:8080/"
    },
    "executionInfo": {
     "elapsed": 15,
     "status": "ok",
     "timestamp": 1751888682375,
     "user": {
      "displayName": "TAHMIDUL KARIM TAKEE",
      "userId": "03029933455554057161"
     },
     "user_tz": -360
    },
    "id": "wcjb0A_F4dhG",
    "outputId": "63acbeb5-d97a-4bb1-bfde-ac379b2c2314"
   },
   "outputs": [
    {
     "name": "stdout",
     "output_type": "stream",
     "text": [
      "[ 5  6  8  9 11]\n"
     ]
    }
   ],
   "source": [
    "# x = x+4\n",
    "print(x+4)"
   ]
  },
  {
   "cell_type": "markdown",
   "metadata": {
    "id": "onGFI_re4w8R"
   },
   "source": [
    "2 3 4\n",
    "\n",
    "5 6 7"
   ]
  },
  {
   "cell_type": "markdown",
   "metadata": {
    "id": "va-OdJw3n2Pe"
   },
   "source": []
  },
  {
   "cell_type": "code",
   "execution_count": 7,
   "metadata": {
    "executionInfo": {
     "elapsed": 28,
     "status": "ok",
     "timestamp": 1751888682392,
     "user": {
      "displayName": "TAHMIDUL KARIM TAKEE",
      "userId": "03029933455554057161"
     },
     "user_tz": -360
    },
    "id": "vMYh9lD64iqU"
   },
   "outputs": [],
   "source": [
    "# declare an array of 2 rows, 3 columns\n",
    "x = np.array([[2,3,4,],[5,6,14]])"
   ]
  },
  {
   "cell_type": "code",
   "execution_count": 8,
   "metadata": {
    "colab": {
     "base_uri": "https://localhost:8080/"
    },
    "executionInfo": {
     "elapsed": 3,
     "status": "ok",
     "timestamp": 1751888682396,
     "user": {
      "displayName": "TAHMIDUL KARIM TAKEE",
      "userId": "03029933455554057161"
     },
     "user_tz": -360
    },
    "id": "vycpcq0G5Doe",
    "outputId": "aed9b4bf-c627-4ffc-d822-c4abed450e4c"
   },
   "outputs": [
    {
     "name": "stdout",
     "output_type": "stream",
     "text": [
      "[[ 2  3  4]\n",
      " [ 5  6 14]]\n"
     ]
    }
   ],
   "source": [
    "print(x, )\n"
   ]
  },
  {
   "cell_type": "code",
   "execution_count": 9,
   "metadata": {
    "colab": {
     "base_uri": "https://localhost:8080/",
     "height": 414
    },
    "executionInfo": {
     "elapsed": 445,
     "status": "ok",
     "timestamp": 1751888682841,
     "user": {
      "displayName": "TAHMIDUL KARIM TAKEE",
      "userId": "03029933455554057161"
     },
     "user_tz": -360
    },
    "id": "P1kdjeQNcU9M",
    "outputId": "4efe59a2-2ce1-439c-a282-35478a67e769"
   },
   "outputs": [
    {
     "data": {
      "text/plain": [
       "<matplotlib.image.AxesImage at 0x17e7d3a6e40>"
      ]
     },
     "execution_count": 9,
     "metadata": {},
     "output_type": "execute_result"
    },
    {
     "data": {
      "image/png": "[encoded data removed]",
      "text/plain": [
       "<Figure size 640x480 with 1 Axes>"
      ]
     },
     "metadata": {},
     "output_type": "display_data"
    }
   ],
   "source": [
    "plt.imshow(x)"
   ]
  },
  {
   "cell_type": "code",
   "execution_count": 10,
   "metadata": {
    "colab": {
     "base_uri": "https://localhost:8080/"
    },
    "executionInfo": {
     "elapsed": 8,
     "status": "ok",
     "timestamp": 1751888682842,
     "user": {
      "displayName": "TAHMIDUL KARIM TAKEE",
      "userId": "03029933455554057161"
     },
     "user_tz": -360
    },
    "id": "dHEzy1zJc_20",
    "outputId": "5f0c9056-f12b-4615-de0b-d9de82a4977e"
   },
   "outputs": [
    {
     "data": {
      "text/plain": [
       "array([ 5,  6, 14])"
      ]
     },
     "execution_count": 10,
     "metadata": {},
     "output_type": "execute_result"
    }
   ],
   "source": [
    "x[1,:]"
   ]
  },
  {
   "cell_type": "code",
   "execution_count": 17,
   "metadata": {
    "executionInfo": {
     "elapsed": 5,
     "status": "ok",
     "timestamp": 1751888682842,
     "user": {
      "displayName": "TAHMIDUL KARIM TAKEE",
      "userId": "03029933455554057161"
     },
     "user_tz": -360
    },
    "id": "bBZEOgO05FAs"
   },
   "outputs": [],
   "source": [
    "x = np.array([1, 2, 4, 5, 7, 12, -55, 77, 10])"
   ]
  },
  {
   "cell_type": "code",
   "execution_count": 18,
   "metadata": {
    "colab": {
     "base_uri": "https://localhost:8080/"
    },
    "executionInfo": {
     "elapsed": 4,
     "status": "ok",
     "timestamp": 1751888682842,
     "user": {
      "displayName": "TAHMIDUL KARIM TAKEE",
      "userId": "03029933455554057161"
     },
     "user_tz": -360
    },
    "id": "mIHashf-5dOZ",
    "outputId": "64b181bc-0e94-433d-cb6b-ce986c563307"
   },
   "outputs": [
    {
     "name": "stdout",
     "output_type": "stream",
     "text": [
      "5\n"
     ]
    }
   ],
   "source": [
    "print(x[3])"
   ]
  },
  {
   "cell_type": "code",
   "execution_count": 19,
   "metadata": {
    "colab": {
     "base_uri": "https://localhost:8080/"
    },
    "executionInfo": {
     "elapsed": 5,
     "status": "ok",
     "timestamp": 1751888682846,
     "user": {
      "displayName": "TAHMIDUL KARIM TAKEE",
      "userId": "03029933455554057161"
     },
     "user_tz": -360
    },
    "id": "6vQ4US5E5hj8",
    "outputId": "84783861-c99e-4b48-872e-51fc0ed77cee"
   },
   "outputs": [
    {
     "name": "stdout",
     "output_type": "stream",
     "text": [
      "7\n"
     ]
    }
   ],
   "source": [
    "print(x[-5])"
   ]
  },
  {
   "cell_type": "code",
   "execution_count": 20,
   "metadata": {
    "colab": {
     "base_uri": "https://localhost:8080/"
    },
    "executionInfo": {
     "elapsed": 12,
     "status": "ok",
     "timestamp": 1751888682858,
     "user": {
      "displayName": "TAHMIDUL KARIM TAKEE",
      "userId": "03029933455554057161"
     },
     "user_tz": -360
    },
    "id": "evfS6X2c5rNd",
    "outputId": "82e0504b-ef1b-4aa9-bbdb-0ef5b98dcd35"
   },
   "outputs": [
    {
     "name": "stdout",
     "output_type": "stream",
     "text": [
      "[[2 3 4]\n",
      " [5 6 7]]\n",
      "6\n",
      "6\n"
     ]
    }
   ],
   "source": [
    "x = np.array([[2,3,4],[5,6,7]])\n",
    "print(x)\n",
    "print(x[1][1])\n",
    "print(x[1,1])"
   ]
  },
  {
   "cell_type": "code",
   "execution_count": 21,
   "metadata": {
    "colab": {
     "base_uri": "https://localhost:8080/"
    },
    "executionInfo": {
     "elapsed": 20,
     "status": "ok",
     "timestamp": 1751888682888,
     "user": {
      "displayName": "TAHMIDUL KARIM TAKEE",
      "userId": "03029933455554057161"
     },
     "user_tz": -360
    },
    "id": "6Jv7lH-W6ADW",
    "outputId": "9823b223-1a67-43b2-d0b5-f0df30efa4a0"
   },
   "outputs": [
    {
     "name": "stdout",
     "output_type": "stream",
     "text": [
      "[[[[2 3 4]\n",
      "   [5 6 7]]\n",
      "\n",
      "  [[2 3 4]\n",
      "   [5 6 7]]]]\n"
     ]
    }
   ],
   "source": [
    "x = np.array([[[[2,3,4],[5,6,7]],[[2,3,4],[5,6,7]]]])\n",
    "print(x)"
   ]
  },
  {
   "cell_type": "markdown",
   "metadata": {
    "id": "rMhtV6ge61TZ"
   },
   "source": [
    "x[start:end] = [x[start], x[start+1], ....., x[end-1]]"
   ]
  },
  {
   "cell_type": "code",
   "execution_count": 22,
   "metadata": {
    "colab": {
     "base_uri": "https://localhost:8080/"
    },
    "executionInfo": {
     "elapsed": 6,
     "status": "ok",
     "timestamp": 1751888682895,
     "user": {
      "displayName": "TAHMIDUL KARIM TAKEE",
      "userId": "03029933455554057161"
     },
     "user_tz": -360
    },
    "id": "8IhHMuE46c2W",
    "outputId": "ea11db13-86dc-45af-e25b-6c01b3be56fc"
   },
   "outputs": [
    {
     "name": "stdout",
     "output_type": "stream",
     "text": [
      "[2 4 5 7 8 9]\n"
     ]
    }
   ],
   "source": [
    "x = np.array([1, 2, 4, 5, 7, 8, 9, 12])\n",
    "print(x[1:-1])"
   ]
  },
  {
   "cell_type": "code",
   "execution_count": 23,
   "metadata": {
    "colab": {
     "base_uri": "https://localhost:8080/"
    },
    "executionInfo": {
     "elapsed": 3,
     "status": "ok",
     "timestamp": 1751888682899,
     "user": {
      "displayName": "TAHMIDUL KARIM TAKEE",
      "userId": "03029933455554057161"
     },
     "user_tz": -360
    },
    "id": "v0QX9xP7envw",
    "outputId": "62472a31-d4e5-47d3-dece-519f38b444ad"
   },
   "outputs": [
    {
     "data": {
      "text/plain": [
       "array([2, 5, 8])"
      ]
     },
     "execution_count": 23,
     "metadata": {},
     "output_type": "execute_result"
    }
   ],
   "source": [
    "x[1:-1:2]"
   ]
  },
  {
   "cell_type": "code",
   "execution_count": 24,
   "metadata": {
    "colab": {
     "base_uri": "https://localhost:8080/"
    },
    "executionInfo": {
     "elapsed": 8,
     "status": "ok",
     "timestamp": 1751888682908,
     "user": {
      "displayName": "TAHMIDUL KARIM TAKEE",
      "userId": "03029933455554057161"
     },
     "user_tz": -360
    },
    "id": "d1rAJyKu7QAI",
    "outputId": "4655f9db-6351-4075-fb29-df0689baa3a8"
   },
   "outputs": [
    {
     "name": "stdout",
     "output_type": "stream",
     "text": [
      "[2 4 5 7 8 9]\n"
     ]
    }
   ],
   "source": [
    "print(x[1:-1])"
   ]
  },
  {
   "cell_type": "markdown",
   "metadata": {
    "id": "S8oS615C7sLh"
   },
   "source": [
    "x[start:end:step] = x[start], x[start+step], x[start+2*step],.... x[end-1]"
   ]
  },
  {
   "cell_type": "code",
   "execution_count": 25,
   "metadata": {
    "colab": {
     "base_uri": "https://localhost:8080/"
    },
    "executionInfo": {
     "elapsed": 2,
     "status": "ok",
     "timestamp": 1751888682910,
     "user": {
      "displayName": "TAHMIDUL KARIM TAKEE",
      "userId": "03029933455554057161"
     },
     "user_tz": -360
    },
    "id": "A19uvWgm7kOM",
    "outputId": "fdbf4f37-cd62-4fe8-fa60-3fd10ee22915"
   },
   "outputs": [
    {
     "name": "stdout",
     "output_type": "stream",
     "text": [
      "[1 2 4 5 7]\n"
     ]
    }
   ],
   "source": [
    "print(x[0:5:1])"
   ]
  },
  {
   "cell_type": "code",
   "execution_count": 26,
   "metadata": {
    "colab": {
     "base_uri": "https://localhost:8080/"
    },
    "executionInfo": {
     "elapsed": 2,
     "status": "ok",
     "timestamp": 1751888682913,
     "user": {
      "displayName": "TAHMIDUL KARIM TAKEE",
      "userId": "03029933455554057161"
     },
     "user_tz": -360
    },
    "id": "mYBogM5Z8LG6",
    "outputId": "5d8fd187-2bc9-42ae-f899-9f74f0c2ab24"
   },
   "outputs": [
    {
     "name": "stdout",
     "output_type": "stream",
     "text": [
      "[2 5]\n"
     ]
    }
   ],
   "source": [
    "print(x[1:4:2])"
   ]
  },
  {
   "cell_type": "code",
   "execution_count": 27,
   "metadata": {
    "colab": {
     "base_uri": "https://localhost:8080/"
    },
    "executionInfo": {
     "elapsed": 4,
     "status": "ok",
     "timestamp": 1751888682917,
     "user": {
      "displayName": "TAHMIDUL KARIM TAKEE",
      "userId": "03029933455554057161"
     },
     "user_tz": -360
    },
    "id": "U518xf9J8bRU",
    "outputId": "45c31507-2eaf-4b62-81a2-3245ad56cc15"
   },
   "outputs": [
    {
     "name": "stdout",
     "output_type": "stream",
     "text": [
      "[ 1  2  4  5  7  8  9 12]\n"
     ]
    }
   ],
   "source": [
    "print(x[::1])"
   ]
  },
  {
   "cell_type": "code",
   "execution_count": 28,
   "metadata": {
    "colab": {
     "base_uri": "https://localhost:8080/"
    },
    "executionInfo": {
     "elapsed": 43,
     "status": "ok",
     "timestamp": 1751888682960,
     "user": {
      "displayName": "TAHMIDUL KARIM TAKEE",
      "userId": "03029933455554057161"
     },
     "user_tz": -360
    },
    "id": "6pY2tr718qzN",
    "outputId": "21ec887c-eda9-4340-e839-509666f3f9a4"
   },
   "outputs": [
    {
     "name": "stdout",
     "output_type": "stream",
     "text": [
      "[12  9  8  7  5  4  2  1]\n"
     ]
    }
   ],
   "source": [
    "print(x[::-1])"
   ]
  },
  {
   "cell_type": "code",
   "execution_count": 29,
   "metadata": {
    "colab": {
     "base_uri": "https://localhost:8080/"
    },
    "executionInfo": {
     "elapsed": 3,
     "status": "ok",
     "timestamp": 1751888682960,
     "user": {
      "displayName": "TAHMIDUL KARIM TAKEE",
      "userId": "03029933455554057161"
     },
     "user_tz": -360
    },
    "id": "1vVPKRCO9PZm",
    "outputId": "4d01ac6f-2bde-433c-9454-2705cebf3bdd"
   },
   "outputs": [
    {
     "name": "stdout",
     "output_type": "stream",
     "text": [
      "[12  8  5  2]\n"
     ]
    }
   ],
   "source": [
    "print(x[::-2])"
   ]
  },
  {
   "cell_type": "code",
   "execution_count": 30,
   "metadata": {
    "colab": {
     "base_uri": "https://localhost:8080/"
    },
    "executionInfo": {
     "elapsed": 3,
     "status": "ok",
     "timestamp": 1751888682963,
     "user": {
      "displayName": "TAHMIDUL KARIM TAKEE",
      "userId": "03029933455554057161"
     },
     "user_tz": -360
    },
    "id": "lvtRGdrs9ZeV",
    "outputId": "3d8506a4-3853-41a1-8661-6443cdb4eac8"
   },
   "outputs": [
    {
     "name": "stdout",
     "output_type": "stream",
     "text": [
      "[[2 3 4]\n",
      " [5 6 7]]\n"
     ]
    }
   ],
   "source": [
    "x = np.array([[2,3,4],[5,6,7]])\n",
    "print(x)"
   ]
  },
  {
   "cell_type": "code",
   "execution_count": 31,
   "metadata": {
    "executionInfo": {
     "elapsed": 1,
     "status": "ok",
     "timestamp": 1751888682964,
     "user": {
      "displayName": "TAHMIDUL KARIM TAKEE",
      "userId": "03029933455554057161"
     },
     "user_tz": -360
    },
    "id": "PWyBE87n9pt_"
   },
   "outputs": [],
   "source": [
    "# x[20:35][100:120]"
   ]
  },
  {
   "cell_type": "code",
   "execution_count": 32,
   "metadata": {
    "colab": {
     "base_uri": "https://localhost:8080/"
    },
    "executionInfo": {
     "elapsed": 2,
     "status": "ok",
     "timestamp": 1751888682967,
     "user": {
      "displayName": "TAHMIDUL KARIM TAKEE",
      "userId": "03029933455554057161"
     },
     "user_tz": -360
    },
    "id": "Hu_dqBvl-hC_",
    "outputId": "d1a9d4f2-c507-4c0e-c080-3e33517e6489"
   },
   "outputs": [
    {
     "name": "stdout",
     "output_type": "stream",
     "text": [
      "[[2 4]\n",
      " [5 7]]\n"
     ]
    }
   ],
   "source": [
    "print(x[:,::2])"
   ]
  },
  {
   "cell_type": "markdown",
   "metadata": {
    "id": "YI_kMteYAIpN"
   },
   "source": [
    "`x[start:end]`\n",
    "\n",
    "`x[start:end:step]`\n",
    "\n",
    "`x[::]`\n",
    "\n",
    "start is not specified, 0\n",
    "\n",
    "end is not specified, len(x)\n",
    "\n",
    "step is not specified, 1"
   ]
  },
  {
   "cell_type": "code",
   "execution_count": 33,
   "metadata": {
    "executionInfo": {
     "elapsed": 43,
     "status": "ok",
     "timestamp": 1751888683010,
     "user": {
      "displayName": "TAHMIDUL KARIM TAKEE",
      "userId": "03029933455554057161"
     },
     "user_tz": -360
    },
    "id": "uq179aiE-x6A"
   },
   "outputs": [],
   "source": [
    "# boolean indexing\n",
    "\n",
    "x = np.array([2, 1, -5, -4, 4, 5])\n"
   ]
  },
  {
   "cell_type": "code",
   "execution_count": 34,
   "metadata": {
    "colab": {
     "base_uri": "https://localhost:8080/"
    },
    "executionInfo": {
     "elapsed": 47,
     "status": "ok",
     "timestamp": 1751888683016,
     "user": {
      "displayName": "TAHMIDUL KARIM TAKEE",
      "userId": "03029933455554057161"
     },
     "user_tz": -360
    },
    "id": "zst_3kSy0J80",
    "outputId": "993bc2cf-7ce8-441c-f0b7-bd7d734701d0"
   },
   "outputs": [
    {
     "data": {
      "text/plain": [
       "array([2, 1, 4, 5])"
      ]
     },
     "execution_count": 34,
     "metadata": {},
     "output_type": "execute_result"
    }
   ],
   "source": [
    "x[x>0]"
   ]
  },
  {
   "cell_type": "code",
   "execution_count": 35,
   "metadata": {
    "colab": {
     "base_uri": "https://localhost:8080/"
    },
    "executionInfo": {
     "elapsed": 2,
     "status": "ok",
     "timestamp": 1751888683019,
     "user": {
      "displayName": "TAHMIDUL KARIM TAKEE",
      "userId": "03029933455554057161"
     },
     "user_tz": -360
    },
    "id": "JFPgUnSz00GD",
    "outputId": "56e02f2b-1a5c-44cf-eeed-3ea29daac3c6"
   },
   "outputs": [
    {
     "data": {
      "text/plain": [
       "array([2, 1, 0, 0, 4, 5])"
      ]
     },
     "execution_count": 35,
     "metadata": {},
     "output_type": "execute_result"
    }
   ],
   "source": [
    "x*(x>0)"
   ]
  },
  {
   "cell_type": "code",
   "execution_count": 36,
   "metadata": {
    "executionInfo": {
     "elapsed": 1,
     "status": "ok",
     "timestamp": 1751888683020,
     "user": {
      "displayName": "TAHMIDUL KARIM TAKEE",
      "userId": "03029933455554057161"
     },
     "user_tz": -360
    },
    "id": "NE69kvBXAkND"
   },
   "outputs": [],
   "source": [
    "index = [False, False, True, True, False, False]"
   ]
  },
  {
   "cell_type": "code",
   "execution_count": 37,
   "metadata": {
    "colab": {
     "base_uri": "https://localhost:8080/"
    },
    "executionInfo": {
     "elapsed": 3,
     "status": "ok",
     "timestamp": 1751888683023,
     "user": {
      "displayName": "TAHMIDUL KARIM TAKEE",
      "userId": "03029933455554057161"
     },
     "user_tz": -360
    },
    "id": "yMg2oZC5Awbj",
    "outputId": "a3876308-c9b2-45d8-b94c-1a968de6fe55"
   },
   "outputs": [
    {
     "data": {
      "text/plain": [
       "array([-5, -4])"
      ]
     },
     "execution_count": 37,
     "metadata": {},
     "output_type": "execute_result"
    }
   ],
   "source": [
    "x[index]"
   ]
  },
  {
   "cell_type": "code",
   "execution_count": 38,
   "metadata": {
    "executionInfo": {
     "elapsed": 0,
     "status": "ok",
     "timestamp": 1751888683024,
     "user": {
      "displayName": "TAHMIDUL KARIM TAKEE",
      "userId": "03029933455554057161"
     },
     "user_tz": -360
    },
    "id": "kiCzwtKBAxES"
   },
   "outputs": [],
   "source": [
    "index = x < 0"
   ]
  },
  {
   "cell_type": "code",
   "execution_count": 39,
   "metadata": {
    "colab": {
     "base_uri": "https://localhost:8080/"
    },
    "executionInfo": {
     "elapsed": 2,
     "status": "ok",
     "timestamp": 1751888683027,
     "user": {
      "displayName": "TAHMIDUL KARIM TAKEE",
      "userId": "03029933455554057161"
     },
     "user_tz": -360
    },
    "id": "QjFiyb3qA2oS",
    "outputId": "2265bb4f-34bc-4198-8bf4-38bea967b92b"
   },
   "outputs": [
    {
     "data": {
      "text/plain": [
       "array([False, False,  True,  True, False, False])"
      ]
     },
     "execution_count": 39,
     "metadata": {},
     "output_type": "execute_result"
    }
   ],
   "source": [
    "index"
   ]
  },
  {
   "cell_type": "code",
   "execution_count": 40,
   "metadata": {
    "colab": {
     "base_uri": "https://localhost:8080/"
    },
    "executionInfo": {
     "elapsed": 34,
     "status": "ok",
     "timestamp": 1751888683061,
     "user": {
      "displayName": "TAHMIDUL KARIM TAKEE",
      "userId": "03029933455554057161"
     },
     "user_tz": -360
    },
    "id": "a1uN88e2BAb6",
    "outputId": "8298781b-f0b4-4450-ff60-4b8276265b5b"
   },
   "outputs": [
    {
     "data": {
      "text/plain": [
       "array([-5, -4])"
      ]
     },
     "execution_count": 40,
     "metadata": {},
     "output_type": "execute_result"
    }
   ],
   "source": [
    "x[index]"
   ]
  },
  {
   "cell_type": "code",
   "execution_count": 41,
   "metadata": {
    "colab": {
     "base_uri": "https://localhost:8080/"
    },
    "executionInfo": {
     "elapsed": 18,
     "status": "ok",
     "timestamp": 1751888683076,
     "user": {
      "displayName": "TAHMIDUL KARIM TAKEE",
      "userId": "03029933455554057161"
     },
     "user_tz": -360
    },
    "id": "NetU_IReBCW6",
    "outputId": "4faee675-c94d-4fd7-e844-f49c7dec518c"
   },
   "outputs": [
    {
     "data": {
      "text/plain": [
       "array([-5, -4])"
      ]
     },
     "execution_count": 41,
     "metadata": {},
     "output_type": "execute_result"
    }
   ],
   "source": [
    "x[ x < 0 ]"
   ]
  },
  {
   "cell_type": "markdown",
   "metadata": {
    "id": "zCG5bELtF4lr"
   },
   "source": [
    "## Slicing Summary\n",
    "\n",
    "`x[start:end:step] = [x[start], x[start+step], x[start+2*step], ... x[end-1]]`\n",
    "\n",
    "If `start` not specified, assumes `0`\n",
    "\n",
    "If `end` not specified, assumes `len(x)`\n",
    "\n",
    "If `step` not specified, assumes `1`\n",
    "\n",
    "**Boolean indexing**: `x[ind]` where `ind` is an array of `True` and `False` with the same size as `x`"
   ]
  },
  {
   "cell_type": "code",
   "execution_count": 42,
   "metadata": {
    "colab": {
     "base_uri": "https://localhost:8080/"
    },
    "executionInfo": {
     "elapsed": 8,
     "status": "ok",
     "timestamp": 1751888683076,
     "user": {
      "displayName": "TAHMIDUL KARIM TAKEE",
      "userId": "03029933455554057161"
     },
     "user_tz": -360
    },
    "id": "cePLXV-aBKNC",
    "outputId": "bc34e803-3c3b-4b83-90a6-1962504d9d07"
   },
   "outputs": [
    {
     "name": "stdout",
     "output_type": "stream",
     "text": [
      "[ 1 -1  2]\n",
      "[ 1 -1  2  4  5]\n",
      "[ 4  1 -1  2]\n",
      "[ 4  1 -1  2  4  5]\n",
      "[-1  4]\n",
      "[ 4 -1  4]\n"
     ]
    }
   ],
   "source": [
    "x = np.array([4, 1, -1, 2, 4, 5])\n",
    "print(x[1:4]) # [1, -1, 2]\n",
    "print(x[1:]) # [1, -1, 2, 4, 5]\n",
    "print(x[:4]) # []\n",
    "print(x[:]) # []\n",
    "print(x[2::2]) # []\n",
    "print(x[:6:2]) # []"
   ]
  },
  {
   "cell_type": "markdown",
   "metadata": {
    "id": "9u2TTEGmH1Rv"
   },
   "source": [
    "# Image as NumPy array"
   ]
  },
  {
   "cell_type": "code",
   "execution_count": 43,
   "metadata": {
    "colab": {
     "base_uri": "https://localhost:8080/"
    },
    "executionInfo": {
     "elapsed": 5,
     "status": "ok",
     "timestamp": 1751888683076,
     "user": {
      "displayName": "TAHMIDUL KARIM TAKEE",
      "userId": "03029933455554057161"
     },
     "user_tz": -360
    },
    "id": "Nhe0aordH33I",
    "outputId": "685899fc-dcb8-4582-e7b6-597148577f0a"
   },
   "outputs": [
    {
     "name": "stdout",
     "output_type": "stream",
     "text": [
      "[[0.09009587 0.39652251 0.69376385 0.26992487 0.85420483]\n",
      " [0.47736212 0.98828455 0.02788157 0.08819505 0.77603313]\n",
      " [0.66133498 0.01062915 0.37198832 0.49674783 0.37097189]\n",
      " [0.50736168 0.85594756 0.08553557 0.59406982 0.23160526]]\n",
      "shape - (4, 5)\n"
     ]
    }
   ],
   "source": [
    "x = np.random.rand(4, 5)\n",
    "print(x)\n",
    "print(\"shape -\", x.shape)"
   ]
  },
  {
   "cell_type": "code",
   "execution_count": 44,
   "metadata": {
    "colab": {
     "base_uri": "https://localhost:8080/",
     "height": 453
    },
    "executionInfo": {
     "elapsed": 257,
     "status": "ok",
     "timestamp": 1751888683333,
     "user": {
      "displayName": "TAHMIDUL KARIM TAKEE",
      "userId": "03029933455554057161"
     },
     "user_tz": -360
    },
    "id": "5WCPYo1lH5No",
    "outputId": "b27c0788-ff57-482b-986f-6f16f6079269"
   },
   "outputs": [
    {
     "data": {
      "text/plain": [
       "<matplotlib.image.AxesImage at 0x7b2ad7bc65d0>"
      ]
     },
     "execution_count": 44,
     "metadata": {},
     "output_type": "execute_result"
    },
    {
     "data": {
      "image/png": "[encoded data removed]",
      "text/plain": [
       "<Figure size 640x480 with 1 Axes>"
      ]
     },
     "metadata": {},
     "output_type": "display_data"
    }
   ],
   "source": [
    "plt.imshow(x, cmap='gray',)\n",
    "# plt.axis(\"off\")"
   ]
  },
  {
   "cell_type": "code",
   "execution_count": 45,
   "metadata": {
    "colab": {
     "base_uri": "https://localhost:8080/"
    },
    "executionInfo": {
     "elapsed": 3,
     "status": "ok",
     "timestamp": 1751888683337,
     "user": {
      "displayName": "TAHMIDUL KARIM TAKEE",
      "userId": "03029933455554057161"
     },
     "user_tz": -360
    },
    "id": "L7u7DUtU3G4O",
    "outputId": "36408ee6-b143-4a63-f3fc-f83f9b49683e"
   },
   "outputs": [
    {
     "data": {
      "text/plain": [
       "(4, 5)"
      ]
     },
     "execution_count": 45,
     "metadata": {},
     "output_type": "execute_result"
    }
   ],
   "source": [
    "x.shape"
   ]
  },
  {
   "cell_type": "code",
   "execution_count": 46,
   "metadata": {
    "colab": {
     "base_uri": "https://localhost:8080/"
    },
    "executionInfo": {
     "elapsed": 3,
     "status": "ok",
     "timestamp": 1751888683340,
     "user": {
      "displayName": "TAHMIDUL KARIM TAKEE",
      "userId": "03029933455554057161"
     },
     "user_tz": -360
    },
    "id": "MWGnv-OyKaZQ",
    "outputId": "0ef8e17a-8905-47b3-9db2-3fcc04bec094"
   },
   "outputs": [
    {
     "name": "stdout",
     "output_type": "stream",
     "text": [
      "Height = 4\n",
      "Width = 5\n"
     ]
    }
   ],
   "source": [
    "#height, width = x.shape[:2]\n",
    "height = x.shape[0]\n",
    "width = x.shape[1]\n",
    "print(\"Height =\", height)\n",
    "print(\"Width =\", width)"
   ]
  },
  {
   "cell_type": "code",
   "execution_count": 47,
   "metadata": {
    "colab": {
     "base_uri": "https://localhost:8080/"
    },
    "executionInfo": {
     "elapsed": 4,
     "status": "ok",
     "timestamp": 1751888683344,
     "user": {
      "displayName": "TAHMIDUL KARIM TAKEE",
      "userId": "03029933455554057161"
     },
     "user_tz": -360
    },
    "id": "9aw3u_deKaWl",
    "outputId": "5201a8d1-60aa-444e-fe58-ad7bc3a1c024"
   },
   "outputs": [
    {
     "name": "stdout",
     "output_type": "stream",
     "text": [
      "Height = 4\n",
      "Width = 5\n",
      "Number of channels = 3\n"
     ]
    }
   ],
   "source": [
    "x = np.random.rand(4, 5, 3)\n",
    "height, width, nchannels = x.shape\n",
    "print(\"Height =\", height)\n",
    "print(\"Width =\", width)\n",
    "print(\"Number of channels =\", nchannels)"
   ]
  },
  {
   "cell_type": "code",
   "execution_count": 48,
   "metadata": {
    "colab": {
     "base_uri": "https://localhost:8080/"
    },
    "executionInfo": {
     "elapsed": 9,
     "status": "ok",
     "timestamp": 1751888683353,
     "user": {
      "displayName": "TAHMIDUL KARIM TAKEE",
      "userId": "03029933455554057161"
     },
     "user_tz": -360
    },
    "id": "A-CCKRVIKaTs",
    "outputId": "bf089ee0-c8e8-4c77-c282-738f6c8b85f6"
   },
   "outputs": [
    {
     "name": "stdout",
     "output_type": "stream",
     "text": [
      "Red Channel\n",
      "[[0.43075178 0.0010363  0.10163299 0.94140187 0.88233045]\n",
      " [0.75889585 0.04742953 0.73749112 0.93180514 0.61127964]\n",
      " [0.50450704 0.76314328 0.21217909 0.44391384 0.98176763]\n",
      " [0.91070963 0.51050849 0.9436681  0.1809799  0.64536594]]\n",
      "Green Channel\n",
      "[[0.41497963 0.32418015 0.5589508  0.93853289 0.53521785]\n",
      " [0.16348497 0.19267354 0.64281708 0.04422846 0.49522851]\n",
      " [0.10251246 0.06598566 0.23504943 0.30613998 0.93133707]\n",
      " [0.19767312 0.87754014 0.28000299 0.51164998 0.98843047]]\n",
      "Blue Channel\n",
      "[[0.73649456 0.13828475 0.05140919 0.73710102 0.21448956]\n",
      " [0.63011259 0.31187412 0.38970638 0.2829369  0.60693494]\n",
      " [0.37021693 0.96193108 0.02491869 0.96989789 0.29019071]\n",
      " [0.22488362 0.46878784 0.72953652 0.51127305 0.25578814]]\n"
     ]
    }
   ],
   "source": [
    "print(\"Red Channel\")\n",
    "print(x[:, :, 0])\n",
    "\n",
    "print(\"Green Channel\")\n",
    "print(x[:, :, 1])\n",
    "\n",
    "print(\"Blue Channel\")\n",
    "print(x[:, :, 2])"
   ]
  },
  {
   "cell_type": "code",
   "execution_count": 49,
   "metadata": {
    "colab": {
     "base_uri": "https://localhost:8080/",
     "height": 512
    },
    "executionInfo": {
     "elapsed": 182,
     "status": "ok",
     "timestamp": 1751888683535,
     "user": {
      "displayName": "TAHMIDUL KARIM TAKEE",
      "userId": "03029933455554057161"
     },
     "user_tz": -360
    },
    "id": "L9v6N4s7H5Fp",
    "outputId": "fb7b468b-60ae-456b-ecde-676a1390a0c2"
   },
   "outputs": [
    {
     "name": "stderr",
     "output_type": "stream",
     "text": [
      "/tmp/ipython-input-49-4054265107.py:1: FutureWarning: `imshow` is deprecated since version 0.25 and will be removed in version 0.27. Please use `matplotlib`, `napari`, etc. to visualize images.\n",
      "  io.imshow(x)\n"
     ]
    },
    {
     "data": {
      "text/plain": [
       "(np.float64(-0.5), np.float64(4.5), np.float64(3.5), np.float64(-0.5))"
      ]
     },
     "execution_count": 49,
     "metadata": {},
     "output_type": "execute_result"
    },
    {
     "data": {
      "image/png": "[encoded data removed]",
      "text/plain": [
       "<Figure size 640x480 with 1 Axes>"
      ]
     },
     "metadata": {},
     "output_type": "display_data"
    }
   ],
   "source": [
    "io.imshow(x)\n",
    "plt.axis(\"off\")"
   ]
  },
  {
   "cell_type": "code",
   "execution_count": 50,
   "metadata": {
    "colab": {
     "base_uri": "https://localhost:8080/",
     "height": 409
    },
    "executionInfo": {
     "elapsed": 178,
     "status": "ok",
     "timestamp": 1751888683672,
     "user": {
      "displayName": "TAHMIDUL KARIM TAKEE",
      "userId": "03029933455554057161"
     },
     "user_tz": -360
    },
    "id": "zyA3dNArH49p",
    "outputId": "3c5cb71c-59e9-4586-a4ac-6481ce56d1b5"
   },
   "outputs": [
    {
     "name": "stderr",
     "output_type": "stream",
     "text": [
      "/tmp/ipython-input-50-2181113420.py:3: FutureWarning: `imshow` is deprecated since version 0.25 and will be removed in version 0.27. Please use `matplotlib`, `napari`, etc. to visualize images.\n",
      "  io.imshow(x_cropped)\n"
     ]
    },
    {
     "data": {
      "text/plain": [
       "(np.float64(-0.5), np.float64(2.5), np.float64(2.5), np.float64(-0.5))"
      ]
     },
     "execution_count": 50,
     "metadata": {},
     "output_type": "execute_result"
    },
    {
     "data": {
      "image/png": "[encoded data removed]",
      "text/plain": [
       "<Figure size 400x400 with 1 Axes>"
      ]
     },
     "metadata": {},
     "output_type": "display_data"
    }
   ],
   "source": [
    "plt.figure(figsize=(4, 4))\n",
    "x_cropped = x[-3:,-3:,:]\n",
    "io.imshow(x_cropped)\n",
    "plt.axis(\"off\")"
   ]
  },
  {
   "cell_type": "code",
   "execution_count": 50,
   "metadata": {
    "executionInfo": {
     "elapsed": 13,
     "status": "ok",
     "timestamp": 1751888683685,
     "user": {
      "displayName": "TAHMIDUL KARIM TAKEE",
      "userId": "03029933455554057161"
     },
     "user_tz": -360
    },
    "id": "-ihqk3q7MK-B"
   },
   "outputs": [],
   "source": []
  },
  {
   "cell_type": "code",
   "execution_count": 50,
   "metadata": {
    "executionInfo": {
     "elapsed": 1,
     "status": "ok",
     "timestamp": 1751888683688,
     "user": {
      "displayName": "TAHMIDUL KARIM TAKEE",
      "userId": "03029933455554057161"
     },
     "user_tz": -360
    },
    "id": "Xj1dyLL2MK1K"
   },
   "outputs": [],
   "source": []
  },
  {
   "cell_type": "markdown",
   "metadata": {
    "id": "cu6vWT65H-6r"
   },
   "source": [
    "# Real Digital Image"
   ]
  },
  {
   "cell_type": "code",
   "execution_count": 52,
   "metadata": {
    "colab": {
     "base_uri": "https://localhost:8080/",
     "height": 353
    },
    "executionInfo": {
     "elapsed": 53,
     "status": "error",
     "timestamp": 1751888687921,
     "user": {
      "displayName": "TAHMIDUL KARIM TAKEE",
      "userId": "03029933455554057161"
     },
     "user_tz": -360
    },
    "id": "irkasGIhIBKU",
    "outputId": "08ea6c75-b077-48d1-8b77-599a430805f7"
   },
   "outputs": [
    {
     "ename": "FileNotFoundError",
     "evalue": "No such file: '/content/cat_1.jpg'",
     "output_type": "error",
     "traceback": [
      "\u001b[0;31m---------------------------------------------------------------------------\u001b[0m",
      "\u001b[0;31mFileNotFoundError\u001b[0m                         Traceback (most recent call last)",
      "\u001b[0;32m/tmp/ipython-input-52-2020425910.py\u001b[0m in \u001b[0;36m<cell line: 0>\u001b[0;34m()\u001b[0m\n\u001b[0;32m----> 1\u001b[0;31m \u001b[0mI\u001b[0m \u001b[0;34m=\u001b[0m \u001b[0mio\u001b[0m\u001b[0;34m.\u001b[0m\u001b[0mimread\u001b[0m\u001b[0;34m(\u001b[0m\u001b[0;34m\"cat_1.jpg\"\u001b[0m\u001b[0;34m)\u001b[0m\u001b[0;34m\u001b[0m\u001b[0;34m\u001b[0m\u001b[0m\n\u001b[0m\u001b[1;32m      2\u001b[0m \u001b[0mheight\u001b[0m\u001b[0;34m,\u001b[0m \u001b[0mwidth\u001b[0m \u001b[0;34m=\u001b[0m \u001b[0mI\u001b[0m\u001b[0;34m.\u001b[0m\u001b[0mshape\u001b[0m\u001b[0;34m[\u001b[0m\u001b[0;34m:\u001b[0m\u001b[0;36m2\u001b[0m\u001b[0;34m]\u001b[0m\u001b[0;34m\u001b[0m\u001b[0;34m\u001b[0m\u001b[0m\n\u001b[1;32m      3\u001b[0m \u001b[0mprint\u001b[0m\u001b[0;34m(\u001b[0m\u001b[0;34m\"Height =\"\u001b[0m\u001b[0;34m,\u001b[0m \u001b[0mheight\u001b[0m\u001b[0;34m)\u001b[0m\u001b[0;34m\u001b[0m\u001b[0;34m\u001b[0m\u001b[0m\n\u001b[1;32m      4\u001b[0m \u001b[0mprint\u001b[0m\u001b[0;34m(\u001b[0m\u001b[0;34m\"Width =\"\u001b[0m\u001b[0;34m,\u001b[0m \u001b[0mwidth\u001b[0m\u001b[0;34m)\u001b[0m\u001b[0;34m\u001b[0m\u001b[0;34m\u001b[0m\u001b[0m\n",
      "\u001b[0;32m/usr/local/lib/python3.11/dist-packages/skimage/_shared/utils.py\u001b[0m in \u001b[0;36mfixed_func\u001b[0;34m(*args, **kwargs)\u001b[0m\n\u001b[1;32m    326\u001b[0m                     \u001b[0mkwargs\u001b[0m\u001b[0;34m[\u001b[0m\u001b[0mself\u001b[0m\u001b[0;34m.\u001b[0m\u001b[0mnew_name\u001b[0m\u001b[0;34m]\u001b[0m \u001b[0;34m=\u001b[0m \u001b[0mdeprecated_value\u001b[0m\u001b[0;34m\u001b[0m\u001b[0;34m\u001b[0m\u001b[0m\n\u001b[1;32m    327\u001b[0m \u001b[0;34m\u001b[0m\u001b[0m\n\u001b[0;32m--> 328\u001b[0;31m             \u001b[0;32mreturn\u001b[0m \u001b[0mfunc\u001b[0m\u001b[0;34m(\u001b[0m\u001b[0;34m*\u001b[0m\u001b[0margs\u001b[0m\u001b[0;34m,\u001b[0m \u001b[0;34m**\u001b[0m\u001b[0mkwargs\u001b[0m\u001b[0;34m)\u001b[0m\u001b[0;34m\u001b[0m\u001b[0;34m\u001b[0m\u001b[0m\n\u001b[0m\u001b[1;32m    329\u001b[0m \u001b[0;34m\u001b[0m\u001b[0m\n\u001b[1;32m    330\u001b[0m         \u001b[0;32mif\u001b[0m \u001b[0mself\u001b[0m\u001b[0;34m.\u001b[0m\u001b[0mmodify_docstring\u001b[0m \u001b[0;32mand\u001b[0m \u001b[0mfunc\u001b[0m\u001b[0;34m.\u001b[0m\u001b[0m__doc__\u001b[0m \u001b[0;32mis\u001b[0m \u001b[0;32mnot\u001b[0m \u001b[0;32mNone\u001b[0m\u001b[0;34m:\u001b[0m\u001b[0;34m\u001b[0m\u001b[0;34m\u001b[0m\u001b[0m\n",
      "\u001b[0;32m/usr/local/lib/python3.11/dist-packages/skimage/io/_io.py\u001b[0m in \u001b[0;36mimread\u001b[0;34m(fname, as_gray, plugin, **plugin_args)\u001b[0m\n\u001b[1;32m     80\u001b[0m \u001b[0;34m\u001b[0m\u001b[0m\n\u001b[1;32m     81\u001b[0m     \u001b[0;32mwith\u001b[0m \u001b[0mfile_or_url_context\u001b[0m\u001b[0;34m(\u001b[0m\u001b[0mfname\u001b[0m\u001b[0;34m)\u001b[0m \u001b[0;32mas\u001b[0m \u001b[0mfname\u001b[0m\u001b[0;34m,\u001b[0m \u001b[0m_hide_plugin_deprecation_warnings\u001b[0m\u001b[0;34m(\u001b[0m\u001b[0;34m)\u001b[0m\u001b[0;34m:\u001b[0m\u001b[0;34m\u001b[0m\u001b[0;34m\u001b[0m\u001b[0m\n\u001b[0;32m---> 82\u001b[0;31m         \u001b[0mimg\u001b[0m \u001b[0;34m=\u001b[0m \u001b[0mcall_plugin\u001b[0m\u001b[0;34m(\u001b[0m\u001b[0;34m'imread'\u001b[0m\u001b[0;34m,\u001b[0m \u001b[0mfname\u001b[0m\u001b[0;34m,\u001b[0m \u001b[0mplugin\u001b[0m\u001b[0;34m=\u001b[0m\u001b[0mplugin\u001b[0m\u001b[0;34m,\u001b[0m \u001b[0;34m**\u001b[0m\u001b[0mplugin_args\u001b[0m\u001b[0;34m)\u001b[0m\u001b[0;34m\u001b[0m\u001b[0;34m\u001b[0m\u001b[0m\n\u001b[0m\u001b[1;32m     83\u001b[0m \u001b[0;34m\u001b[0m\u001b[0m\n\u001b[1;32m     84\u001b[0m     \u001b[0;32mif\u001b[0m \u001b[0;32mnot\u001b[0m \u001b[0mhasattr\u001b[0m\u001b[0;34m(\u001b[0m\u001b[0mimg\u001b[0m\u001b[0;34m,\u001b[0m \u001b[0;34m'ndim'\u001b[0m\u001b[0;34m)\u001b[0m\u001b[0;34m:\u001b[0m\u001b[0;34m\u001b[0m\u001b[0;34m\u001b[0m\u001b[0m\n",
      "\u001b[0;32m/usr/local/lib/python3.11/dist-packages/skimage/_shared/utils.py\u001b[0m in \u001b[0;36mwrapped\u001b[0;34m(*args, **kwargs)\u001b[0m\n\u001b[1;32m    536\u001b[0m             \u001b[0mstacklevel\u001b[0m \u001b[0;34m=\u001b[0m \u001b[0;36m1\u001b[0m \u001b[0;34m+\u001b[0m \u001b[0mself\u001b[0m\u001b[0;34m.\u001b[0m\u001b[0mget_stack_length\u001b[0m\u001b[0;34m(\u001b[0m\u001b[0mfunc\u001b[0m\u001b[0;34m)\u001b[0m \u001b[0;34m-\u001b[0m \u001b[0mstack_rank\u001b[0m\u001b[0;34m\u001b[0m\u001b[0;34m\u001b[0m\u001b[0m\n\u001b[1;32m    537\u001b[0m             \u001b[0mwarnings\u001b[0m\u001b[0;34m.\u001b[0m\u001b[0mwarn\u001b[0m\u001b[0;34m(\u001b[0m\u001b[0mmessage\u001b[0m\u001b[0;34m,\u001b[0m \u001b[0mcategory\u001b[0m\u001b[0;34m=\u001b[0m\u001b[0mFutureWarning\u001b[0m\u001b[0;34m,\u001b[0m \u001b[0mstacklevel\u001b[0m\u001b[0;34m=\u001b[0m\u001b[0mstacklevel\u001b[0m\u001b[0;34m)\u001b[0m\u001b[0;34m\u001b[0m\u001b[0;34m\u001b[0m\u001b[0m\n\u001b[0;32m--> 538\u001b[0;31m             \u001b[0;32mreturn\u001b[0m \u001b[0mfunc\u001b[0m\u001b[0;34m(\u001b[0m\u001b[0;34m*\u001b[0m\u001b[0margs\u001b[0m\u001b[0;34m,\u001b[0m \u001b[0;34m**\u001b[0m\u001b[0mkwargs\u001b[0m\u001b[0;34m)\u001b[0m\u001b[0;34m\u001b[0m\u001b[0;34m\u001b[0m\u001b[0m\n\u001b[0m\u001b[1;32m    539\u001b[0m \u001b[0;34m\u001b[0m\u001b[0m\n\u001b[1;32m    540\u001b[0m         \u001b[0;31m# modify docstring to display deprecation warning\u001b[0m\u001b[0;34m\u001b[0m\u001b[0;34m\u001b[0m\u001b[0m\n",
      "\u001b[0;32m/usr/local/lib/python3.11/dist-packages/skimage/io/manage_plugins.py\u001b[0m in \u001b[0;36mcall_plugin\u001b[0;34m(kind, *args, **kwargs)\u001b[0m\n\u001b[1;32m    252\u001b[0m             \u001b[0;32mraise\u001b[0m \u001b[0mRuntimeError\u001b[0m\u001b[0;34m(\u001b[0m\u001b[0;34mf'Could not find the plugin \"{plugin}\" for {kind}.'\u001b[0m\u001b[0;34m)\u001b[0m\u001b[0;34m\u001b[0m\u001b[0;34m\u001b[0m\u001b[0m\n\u001b[1;32m    253\u001b[0m \u001b[0;34m\u001b[0m\u001b[0m\n\u001b[0;32m--> 254\u001b[0;31m     \u001b[0;32mreturn\u001b[0m \u001b[0mfunc\u001b[0m\u001b[0;34m(\u001b[0m\u001b[0;34m*\u001b[0m\u001b[0margs\u001b[0m\u001b[0;34m,\u001b[0m \u001b[0;34m**\u001b[0m\u001b[0mkwargs\u001b[0m\u001b[0;34m)\u001b[0m\u001b[0;34m\u001b[0m\u001b[0;34m\u001b[0m\u001b[0m\n\u001b[0m\u001b[1;32m    255\u001b[0m \u001b[0;34m\u001b[0m\u001b[0m\n\u001b[1;32m    256\u001b[0m \u001b[0;34m\u001b[0m\u001b[0m\n",
      "\u001b[0;32m/usr/local/lib/python3.11/dist-packages/skimage/io/_plugins/imageio_plugin.py\u001b[0m in \u001b[0;36mimread\u001b[0;34m(*args, **kwargs)\u001b[0m\n\u001b[1;32m      9\u001b[0m \u001b[0;34m@\u001b[0m\u001b[0mwraps\u001b[0m\u001b[0;34m(\u001b[0m\u001b[0mimageio_imread\u001b[0m\u001b[0;34m)\u001b[0m\u001b[0;34m\u001b[0m\u001b[0;34m\u001b[0m\u001b[0m\n\u001b[1;32m     10\u001b[0m \u001b[0;32mdef\u001b[0m \u001b[0mimread\u001b[0m\u001b[0;34m(\u001b[0m\u001b[0;34m*\u001b[0m\u001b[0margs\u001b[0m\u001b[0;34m,\u001b[0m \u001b[0;34m**\u001b[0m\u001b[0mkwargs\u001b[0m\u001b[0;34m)\u001b[0m\u001b[0;34m:\u001b[0m\u001b[0;34m\u001b[0m\u001b[0;34m\u001b[0m\u001b[0m\n\u001b[0;32m---> 11\u001b[0;31m     \u001b[0mout\u001b[0m \u001b[0;34m=\u001b[0m \u001b[0mnp\u001b[0m\u001b[0;34m.\u001b[0m\u001b[0masarray\u001b[0m\u001b[0;34m(\u001b[0m\u001b[0mimageio_imread\u001b[0m\u001b[0;34m(\u001b[0m\u001b[0;34m*\u001b[0m\u001b[0margs\u001b[0m\u001b[0;34m,\u001b[0m \u001b[0;34m**\u001b[0m\u001b[0mkwargs\u001b[0m\u001b[0;34m)\u001b[0m\u001b[0;34m)\u001b[0m\u001b[0;34m\u001b[0m\u001b[0;34m\u001b[0m\u001b[0m\n\u001b[0m\u001b[1;32m     12\u001b[0m     \u001b[0;32mif\u001b[0m \u001b[0;32mnot\u001b[0m \u001b[0mout\u001b[0m\u001b[0;34m.\u001b[0m\u001b[0mflags\u001b[0m\u001b[0;34m[\u001b[0m\u001b[0;34m'WRITEABLE'\u001b[0m\u001b[0;34m]\u001b[0m\u001b[0;34m:\u001b[0m\u001b[0;34m\u001b[0m\u001b[0;34m\u001b[0m\u001b[0m\n\u001b[1;32m     13\u001b[0m         \u001b[0mout\u001b[0m \u001b[0;34m=\u001b[0m \u001b[0mout\u001b[0m\u001b[0;34m.\u001b[0m\u001b[0mcopy\u001b[0m\u001b[0;34m(\u001b[0m\u001b[0;34m)\u001b[0m\u001b[0;34m\u001b[0m\u001b[0;34m\u001b[0m\u001b[0m\n",
      "\u001b[0;32m/usr/local/lib/python3.11/dist-packages/imageio/v3.py\u001b[0m in \u001b[0;36mimread\u001b[0;34m(uri, index, plugin, extension, format_hint, **kwargs)\u001b[0m\n\u001b[1;32m     51\u001b[0m         \u001b[0mcall_kwargs\u001b[0m\u001b[0;34m[\u001b[0m\u001b[0;34m\"index\"\u001b[0m\u001b[0;34m]\u001b[0m \u001b[0;34m=\u001b[0m \u001b[0mindex\u001b[0m\u001b[0;34m\u001b[0m\u001b[0;34m\u001b[0m\u001b[0m\n\u001b[1;32m     52\u001b[0m \u001b[0;34m\u001b[0m\u001b[0m\n\u001b[0;32m---> 53\u001b[0;31m     \u001b[0;32mwith\u001b[0m \u001b[0mimopen\u001b[0m\u001b[0;34m(\u001b[0m\u001b[0muri\u001b[0m\u001b[0;34m,\u001b[0m \u001b[0;34m\"r\"\u001b[0m\u001b[0;34m,\u001b[0m \u001b[0;34m**\u001b[0m\u001b[0mplugin_kwargs\u001b[0m\u001b[0;34m)\u001b[0m \u001b[0;32mas\u001b[0m \u001b[0mimg_file\u001b[0m\u001b[0;34m:\u001b[0m\u001b[0;34m\u001b[0m\u001b[0;34m\u001b[0m\u001b[0m\n\u001b[0m\u001b[1;32m     54\u001b[0m         \u001b[0;32mreturn\u001b[0m \u001b[0mnp\u001b[0m\u001b[0;34m.\u001b[0m\u001b[0masarray\u001b[0m\u001b[0;34m(\u001b[0m\u001b[0mimg_file\u001b[0m\u001b[0;34m.\u001b[0m\u001b[0mread\u001b[0m\u001b[0;34m(\u001b[0m\u001b[0;34m**\u001b[0m\u001b[0mcall_kwargs\u001b[0m\u001b[0;34m)\u001b[0m\u001b[0;34m)\u001b[0m\u001b[0;34m\u001b[0m\u001b[0;34m\u001b[0m\u001b[0m\n\u001b[1;32m     55\u001b[0m \u001b[0;34m\u001b[0m\u001b[0m\n",
      "\u001b[0;32m/usr/local/lib/python3.11/dist-packages/imageio/core/imopen.py\u001b[0m in \u001b[0;36mimopen\u001b[0;34m(uri, io_mode, plugin, extension, format_hint, legacy_mode, **kwargs)\u001b[0m\n\u001b[1;32m    111\u001b[0m         \u001b[0mrequest\u001b[0m\u001b[0;34m.\u001b[0m\u001b[0mformat_hint\u001b[0m \u001b[0;34m=\u001b[0m \u001b[0mformat_hint\u001b[0m\u001b[0;34m\u001b[0m\u001b[0;34m\u001b[0m\u001b[0m\n\u001b[1;32m    112\u001b[0m     \u001b[0;32melse\u001b[0m\u001b[0;34m:\u001b[0m\u001b[0;34m\u001b[0m\u001b[0;34m\u001b[0m\u001b[0m\n\u001b[0;32m--> 113\u001b[0;31m         \u001b[0mrequest\u001b[0m \u001b[0;34m=\u001b[0m \u001b[0mRequest\u001b[0m\u001b[0;34m(\u001b[0m\u001b[0muri\u001b[0m\u001b[0;34m,\u001b[0m \u001b[0mio_mode\u001b[0m\u001b[0;34m,\u001b[0m \u001b[0mformat_hint\u001b[0m\u001b[0;34m=\u001b[0m\u001b[0mformat_hint\u001b[0m\u001b[0;34m,\u001b[0m \u001b[0mextension\u001b[0m\u001b[0;34m=\u001b[0m\u001b[0mextension\u001b[0m\u001b[0;34m)\u001b[0m\u001b[0;34m\u001b[0m\u001b[0;34m\u001b[0m\u001b[0m\n\u001b[0m\u001b[1;32m    114\u001b[0m \u001b[0;34m\u001b[0m\u001b[0m\n\u001b[1;32m    115\u001b[0m     \u001b[0msource\u001b[0m \u001b[0;34m=\u001b[0m \u001b[0;34m\"<bytes>\"\u001b[0m \u001b[0;32mif\u001b[0m \u001b[0misinstance\u001b[0m\u001b[0;34m(\u001b[0m\u001b[0muri\u001b[0m\u001b[0;34m,\u001b[0m \u001b[0mbytes\u001b[0m\u001b[0;34m)\u001b[0m \u001b[0;32melse\u001b[0m \u001b[0muri\u001b[0m\u001b[0;34m\u001b[0m\u001b[0;34m\u001b[0m\u001b[0m\n",
      "\u001b[0;32m/usr/local/lib/python3.11/dist-packages/imageio/core/request.py\u001b[0m in \u001b[0;36m__init__\u001b[0;34m(self, uri, mode, extension, format_hint, **kwargs)\u001b[0m\n\u001b[1;32m    247\u001b[0m \u001b[0;34m\u001b[0m\u001b[0m\n\u001b[1;32m    248\u001b[0m         \u001b[0;31m# Parse what was given\u001b[0m\u001b[0;34m\u001b[0m\u001b[0;34m\u001b[0m\u001b[0m\n\u001b[0;32m--> 249\u001b[0;31m         \u001b[0mself\u001b[0m\u001b[0;34m.\u001b[0m\u001b[0m_parse_uri\u001b[0m\u001b[0;34m(\u001b[0m\u001b[0muri\u001b[0m\u001b[0;34m)\u001b[0m\u001b[0;34m\u001b[0m\u001b[0;34m\u001b[0m\u001b[0m\n\u001b[0m\u001b[1;32m    250\u001b[0m \u001b[0;34m\u001b[0m\u001b[0m\n\u001b[1;32m    251\u001b[0m         \u001b[0;31m# Set extension\u001b[0m\u001b[0;34m\u001b[0m\u001b[0;34m\u001b[0m\u001b[0m\n",
      "\u001b[0;32m/usr/local/lib/python3.11/dist-packages/imageio/core/request.py\u001b[0m in \u001b[0;36m_parse_uri\u001b[0;34m(self, uri)\u001b[0m\n\u001b[1;32m    407\u001b[0m                 \u001b[0;31m# Reading: check that the file exists (but is allowed a dir)\u001b[0m\u001b[0;34m\u001b[0m\u001b[0;34m\u001b[0m\u001b[0m\n\u001b[1;32m    408\u001b[0m                 \u001b[0;32mif\u001b[0m \u001b[0;32mnot\u001b[0m \u001b[0mos\u001b[0m\u001b[0;34m.\u001b[0m\u001b[0mpath\u001b[0m\u001b[0;34m.\u001b[0m\u001b[0mexists\u001b[0m\u001b[0;34m(\u001b[0m\u001b[0mfn\u001b[0m\u001b[0;34m)\u001b[0m\u001b[0;34m:\u001b[0m\u001b[0;34m\u001b[0m\u001b[0;34m\u001b[0m\u001b[0m\n\u001b[0;32m--> 409\u001b[0;31m                     \u001b[0;32mraise\u001b[0m \u001b[0mFileNotFoundError\u001b[0m\u001b[0;34m(\u001b[0m\u001b[0;34m\"No such file: '%s'\"\u001b[0m \u001b[0;34m%\u001b[0m \u001b[0mfn\u001b[0m\u001b[0;34m)\u001b[0m\u001b[0;34m\u001b[0m\u001b[0;34m\u001b[0m\u001b[0m\n\u001b[0m\u001b[1;32m    410\u001b[0m             \u001b[0;32melse\u001b[0m\u001b[0;34m:\u001b[0m\u001b[0;34m\u001b[0m\u001b[0;34m\u001b[0m\u001b[0m\n\u001b[1;32m    411\u001b[0m                 \u001b[0;31m# Writing: check that the directory to write to does exist\u001b[0m\u001b[0;34m\u001b[0m\u001b[0;34m\u001b[0m\u001b[0m\n",
      "\u001b[0;31mFileNotFoundError\u001b[0m: No such file: '/content/cat_1.jpg'"
     ]
    }
   ],
   "source": [
    "I = io.imread(\"cat_1.jpg\")\n",
    "height, width = I.shape[:2]\n",
    "print(\"Height =\", height)\n",
    "print(\"Width =\", width)"
   ]
  },
  {
   "cell_type": "code",
   "execution_count": null,
   "metadata": {
    "executionInfo": {
     "elapsed": 2,
     "status": "aborted",
     "timestamp": 1751888683731,
     "user": {
      "displayName": "TAHMIDUL KARIM TAKEE",
      "userId": "03029933455554057161"
     },
     "user_tz": -360
    },
    "id": "p57Gsa5HNEhT"
   },
   "outputs": [],
   "source": [
    "plt.figure(figsize=(4, 4))\n",
    "io.imshow(I)\n",
    "plt.axis(\"off\")"
   ]
  },
  {
   "cell_type": "code",
   "execution_count": null,
   "metadata": {
    "executionInfo": {
     "elapsed": 1660,
     "status": "aborted",
     "timestamp": 1751888683732,
     "user": {
      "displayName": "TAHMIDUL KARIM TAKEE",
      "userId": "03029933455554057161"
     },
     "user_tz": -360
    },
    "id": "k6YdCW0fNPZv"
   },
   "outputs": [],
   "source": [
    "# print(I)"
   ]
  },
  {
   "cell_type": "code",
   "execution_count": null,
   "metadata": {
    "executionInfo": {
     "elapsed": 1660,
     "status": "aborted",
     "timestamp": 1751888683733,
     "user": {
      "displayName": "TAHMIDUL KARIM TAKEE",
      "userId": "03029933455554057161"
     },
     "user_tz": -360
    },
    "id": "Y-Fts6SDNWFY"
   },
   "outputs": [],
   "source": [
    "x = I[0, 0]\n",
    "y = I[-1, 0]\n",
    "print(x)\n",
    "print(y)"
   ]
  },
  {
   "cell_type": "code",
   "execution_count": null,
   "metadata": {
    "executionInfo": {
     "elapsed": 1659,
     "status": "aborted",
     "timestamp": 1751888683733,
     "user": {
      "displayName": "TAHMIDUL KARIM TAKEE",
      "userId": "03029933455554057161"
     },
     "user_tz": -360
    },
    "id": "RFVrZIcRNokT"
   },
   "outputs": [],
   "source": [
    "print(type(x))"
   ]
  },
  {
   "cell_type": "markdown",
   "metadata": {
    "id": "b0vHV7lBNxtH"
   },
   "source": [
    "## Problem with **uint8**"
   ]
  },
  {
   "cell_type": "code",
   "execution_count": null,
   "metadata": {
    "executionInfo": {
     "elapsed": 1660,
     "status": "aborted",
     "timestamp": 1751888683734,
     "user": {
      "displayName": "TAHMIDUL KARIM TAKEE",
      "userId": "03029933455554057161"
     },
     "user_tz": -360
    },
    "id": "SVoHH_KNNt-S"
   },
   "outputs": [],
   "source": [
    "x + y"
   ]
  },
  {
   "cell_type": "code",
   "execution_count": null,
   "metadata": {
    "executionInfo": {
     "elapsed": 1659,
     "status": "aborted",
     "timestamp": 1751888683734,
     "user": {
      "displayName": "TAHMIDUL KARIM TAKEE",
      "userId": "03029933455554057161"
     },
     "user_tz": -360
    },
    "id": "fviRtm7TN3P8"
   },
   "outputs": [],
   "source": [
    "# Bad way of normalization\n",
    "# I = I/255\n",
    "\n",
    "# Good way\n",
    "I = img_as_float(I)\n",
    "I = img_as_float(I)"
   ]
  },
  {
   "cell_type": "code",
   "execution_count": null,
   "metadata": {
    "executionInfo": {
     "elapsed": 0,
     "status": "aborted",
     "timestamp": 1751888683750,
     "user": {
      "displayName": "TAHMIDUL KARIM TAKEE",
      "userId": "03029933455554057161"
     },
     "user_tz": -360
    },
    "id": "YHGg3G6hOp1N"
   },
   "outputs": [],
   "source": [
    "plt.figure(figsize=(3, 3))\n",
    "io.imshow(I)\n",
    "plt.axis(\"off\")"
   ]
  },
  {
   "cell_type": "markdown",
   "metadata": {
    "id": "Cm3wfAhUPZzd"
   },
   "source": [
    "## Example 2"
   ]
  },
  {
   "cell_type": "code",
   "execution_count": null,
   "metadata": {
    "executionInfo": {
     "elapsed": 1,
     "status": "aborted",
     "timestamp": 1751888683751,
     "user": {
      "displayName": "TAHMIDUL KARIM TAKEE",
      "userId": "03029933455554057161"
     },
     "user_tz": -360
    },
    "id": "A4HisfCXOX_l"
   },
   "outputs": [],
   "source": [
    "I = io.imread(\"cat_1.jpg\")"
   ]
  },
  {
   "cell_type": "code",
   "execution_count": null,
   "metadata": {
    "executionInfo": {
     "elapsed": 1675,
     "status": "aborted",
     "timestamp": 1751888683752,
     "user": {
      "displayName": "TAHMIDUL KARIM TAKEE",
      "userId": "03029933455554057161"
     },
     "user_tz": -360
    },
    "id": "jeUosz6fPdQA"
   },
   "outputs": [],
   "source": [
    "I.shape"
   ]
  },
  {
   "cell_type": "code",
   "execution_count": null,
   "metadata": {
    "executionInfo": {
     "elapsed": 1674,
     "status": "aborted",
     "timestamp": 1751888683752,
     "user": {
      "displayName": "TAHMIDUL KARIM TAKEE",
      "userId": "03029933455554057161"
     },
     "user_tz": -360
    },
    "id": "rkuXn5kiPfsA"
   },
   "outputs": [],
   "source": [
    "height, width, nchannels = I.shape\n",
    "print(\"Height =\", height)\n",
    "print(\"Width =\", width)\n",
    "print(\"Number of channels =\", nchannels)"
   ]
  },
  {
   "cell_type": "code",
   "execution_count": null,
   "metadata": {
    "executionInfo": {
     "elapsed": 1673,
     "status": "aborted",
     "timestamp": 1751888683752,
     "user": {
      "displayName": "TAHMIDUL KARIM TAKEE",
      "userId": "03029933455554057161"
     },
     "user_tz": -360
    },
    "id": "1W3ScY1SPomg"
   },
   "outputs": [],
   "source": [
    "io.imshow(I)"
   ]
  },
  {
   "cell_type": "code",
   "execution_count": null,
   "metadata": {
    "executionInfo": {
     "elapsed": 1674,
     "status": "aborted",
     "timestamp": 1751888683753,
     "user": {
      "displayName": "TAHMIDUL KARIM TAKEE",
      "userId": "03029933455554057161"
     },
     "user_tz": -360
    },
    "id": "O6tg_11yPrIa"
   },
   "outputs": [],
   "source": [
    "fig, axes = plt.subplots(1, 3, figsize=(15, 5))\n",
    "\n",
    "# Red channel\n",
    "axes[0].imshow(I[:, :, 0], cmap=\"gray\")\n",
    "axes[0].axis(\"off\")\n",
    "axes[0].set_title(\"Red\")\n",
    "\n",
    "# Green channel\n",
    "axes[1].imshow(I[:, :, 1], cmap=\"gray\")\n",
    "axes[1].axis(\"off\")\n",
    "axes[1].set_title(\"Green\")\n",
    "\n",
    "# Blue channel\n",
    "axes[2].imshow(I[:, :, 2], cmap=\"gray\")\n",
    "axes[2].axis(\"off\")\n",
    "axes[2].set_title(\"Blue\")\n"
   ]
  },
  {
   "cell_type": "code",
   "execution_count": null,
   "metadata": {
    "executionInfo": {
     "elapsed": 1673,
     "status": "aborted",
     "timestamp": 1751888683753,
     "user": {
      "displayName": "TAHMIDUL KARIM TAKEE",
      "userId": "03029933455554057161"
     },
     "user_tz": -360
    },
    "id": "NDhBdDTr8c6f"
   },
   "outputs": [],
   "source": [
    "13//2"
   ]
  },
  {
   "cell_type": "code",
   "execution_count": null,
   "metadata": {
    "executionInfo": {
     "elapsed": 1673,
     "status": "aborted",
     "timestamp": 1751888683754,
     "user": {
      "displayName": "TAHMIDUL KARIM TAKEE",
      "userId": "03029933455554057161"
     },
     "user_tz": -360
    },
    "id": "nbzTrWF5P4MC"
   },
   "outputs": [],
   "source": [
    "# Only the left half of the image\n",
    "I_cropped = I[:, :width//2 :-1]\n",
    "io.imshow(I_cropped)\n",
    "plt.axis(\"off\")"
   ]
  },
  {
   "cell_type": "code",
   "execution_count": null,
   "metadata": {
    "executionInfo": {
     "elapsed": 1679,
     "status": "aborted",
     "timestamp": 1751888683760,
     "user": {
      "displayName": "TAHMIDUL KARIM TAKEE",
      "userId": "03029933455554057161"
     },
     "user_tz": -360
    },
    "id": "qhndMWyyP6by"
   },
   "outputs": [],
   "source": [
    "# Only the  bottom half of the image\n",
    "I_cropped = I[:, :height//2, :1]\n",
    "io.imshow(I_cropped)\n",
    "plt.axis(\"off\")"
   ]
  },
  {
   "cell_type": "code",
   "execution_count": null,
   "metadata": {
    "executionInfo": {
     "elapsed": 1678,
     "status": "aborted",
     "timestamp": 1751888683760,
     "user": {
      "displayName": "TAHMIDUL KARIM TAKEE",
      "userId": "03029933455554057161"
     },
     "user_tz": -360
    },
    "id": "5uePv5oiR0UG"
   },
   "outputs": [],
   "source": [
    "# flip along widht (with respect to y axis)\n",
    "I_flipped = I[:, ::-1, :]\n",
    "io.imshow(I_flipped)\n",
    "plt.axis(\"off\")"
   ]
  },
  {
   "cell_type": "code",
   "execution_count": null,
   "metadata": {
    "executionInfo": {
     "elapsed": 1678,
     "status": "aborted",
     "timestamp": 1751888683761,
     "user": {
      "displayName": "TAHMIDUL KARIM TAKEE",
      "userId": "03029933455554057161"
     },
     "user_tz": -360
    },
    "id": "LWwCwHmASdv3"
   },
   "outputs": [],
   "source": [
    "# flip along height (with respect to x axis)\n",
    "I_flipped = I[::-1, :, :]\n",
    "io.imshow(I_flipped)\n",
    "plt.axis(\"off\")"
   ]
  },
  {
   "cell_type": "code",
   "execution_count": null,
   "metadata": {
    "executionInfo": {
     "elapsed": 1677,
     "status": "aborted",
     "timestamp": 1751888683761,
     "user": {
      "displayName": "TAHMIDUL KARIM TAKEE",
      "userId": "03029933455554057161"
     },
     "user_tz": -360
    },
    "id": "Q1hy3AxYSl33"
   },
   "outputs": [],
   "source": [
    "# Rotate 180 degree\n",
    "I_rotated = I[::-1, ::-1, :]\n",
    "io.imshow(I_rotated)\n",
    "plt.axis(\"off\")"
   ]
  },
  {
   "cell_type": "code",
   "execution_count": null,
   "metadata": {
    "executionInfo": {
     "elapsed": 1678,
     "status": "aborted",
     "timestamp": 1751888683762,
     "user": {
      "displayName": "TAHMIDUL KARIM TAKEE",
      "userId": "03029933455554057161"
     },
     "user_tz": -360
    },
    "id": "OnTD0Rak9NDP"
   },
   "outputs": [],
   "source": [
    "# Downsample\n",
    "I_rotated = I[::40, ::40, :]\n",
    "io.imshow(I_rotated)\n",
    "plt.axis(\"off\")"
   ]
  },
  {
   "cell_type": "markdown",
   "metadata": {
    "id": "BhimTrm4S4Fj"
   },
   "source": [
    "# Example 3"
   ]
  },
  {
   "cell_type": "code",
   "execution_count": null,
   "metadata": {
    "executionInfo": {
     "elapsed": 1677,
     "status": "aborted",
     "timestamp": 1751888683762,
     "user": {
      "displayName": "TAHMIDUL KARIM TAKEE",
      "userId": "03029933455554057161"
     },
     "user_tz": -360
    },
    "id": "A8o6EPZ5Svag"
   },
   "outputs": [],
   "source": [
    "I = io.imread(\"/content/BracU_Logo.jpg.png\")"
   ]
  },
  {
   "cell_type": "code",
   "execution_count": null,
   "metadata": {
    "executionInfo": {
     "elapsed": 1,
     "status": "aborted",
     "timestamp": 1751888683823,
     "user": {
      "displayName": "TAHMIDUL KARIM TAKEE",
      "userId": "03029933455554057161"
     },
     "user_tz": -360
    },
    "id": "OEWxvuohTVy4"
   },
   "outputs": [],
   "source": [
    "io.imshow(I)"
   ]
  },
  {
   "cell_type": "code",
   "execution_count": null,
   "metadata": {
    "executionInfo": {
     "elapsed": 2,
     "status": "aborted",
     "timestamp": 1751888683824,
     "user": {
      "displayName": "TAHMIDUL KARIM TAKEE",
      "userId": "03029933455554057161"
     },
     "user_tz": -360
    },
    "id": "z67mcvybTXuw"
   },
   "outputs": [],
   "source": [
    "I.shape"
   ]
  },
  {
   "cell_type": "code",
   "execution_count": null,
   "metadata": {
    "executionInfo": {
     "elapsed": 2,
     "status": "aborted",
     "timestamp": 1751888683824,
     "user": {
      "displayName": "TAHMIDUL KARIM TAKEE",
      "userId": "03029933455554057161"
     },
     "user_tz": -360
    },
    "id": "A722Vr66TafH"
   },
   "outputs": [],
   "source": [
    "fig, axes = plt.subplots(1, 4, figsize=(20, 5))\n",
    "\n",
    "# Red channel\n",
    "axes[0].imshow(I[:, :, 0], cmap=\"gray\")\n",
    "axes[0].axis(\"off\")\n",
    "axes[0].set_title(\"Red\")\n",
    "\n",
    "# Green channel\n",
    "axes[1].imshow(I[:, :, 1], cmap=\"gray\")\n",
    "axes[1].axis(\"off\")\n",
    "axes[1].set_title(\"Green\")\n",
    "\n",
    "# Blue channel\n",
    "axes[2].imshow(I[:, :, 2], cmap=\"gray\")\n",
    "axes[2].axis(\"off\")\n",
    "axes[2].set_title(\"Blue\")\n",
    "\n",
    "# Alpha channel\n",
    "axes[3].imshow(I[:, :, 3], cmap=\"gray\")\n",
    "axes[3].axis(\"off\")\n",
    "axes[3].set_title(\"Alpha\")\n"
   ]
  },
  {
   "cell_type": "code",
   "execution_count": null,
   "metadata": {
    "executionInfo": {
     "elapsed": 1,
     "status": "aborted",
     "timestamp": 1751888683824,
     "user": {
      "displayName": "TAHMIDUL KARIM TAKEE",
      "userId": "03029933455554057161"
     },
     "user_tz": -360
    },
    "id": "_Sff-wNFTq54"
   },
   "outputs": [],
   "source": []
  }
 ],
 "metadata": {
  "colab": {
   "provenance": [
    {
     "file_id": "1sWsOfQOvLGl90Z9FxoLsulBJ2BWzhbap",
     "timestamp": 1751888544794
    },
    {
     "file_id": "1Kv6dygDXQc36afO0QUKilaj0Ole_NiX-",
     "timestamp": 1696470283009
    },
    {
     "file_id": "1xrZqShpN_hjX1o0Zt4_dbPeGvFqjxdGG",
     "timestamp": 1696438348661
    }
   ]
  },
  "kernelspec": {
   "display_name": "base",
   "language": "python",
   "name": "python3"
  },
  "language_info": {
   "codemirror_mode": {
    "name": "ipython",
    "version": 3
   },
   "file_extension": ".py",
   "mimetype": "text/x-python",
   "name": "python",
   "nbconvert_exporter": "python",
   "pygments_lexer": "ipython3",
   "version": "3.13.5"
  }
 },
 "nbformat": 4,
 "nbformat_minor": 0
}
